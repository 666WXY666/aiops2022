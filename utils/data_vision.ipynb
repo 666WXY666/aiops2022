{
 "cells": [
  {
   "cell_type": "markdown",
   "metadata": {},
   "source": [
    "# 数据可视化\n"
   ]
  },
  {
   "cell_type": "code",
   "execution_count": 2,
   "metadata": {},
   "outputs": [
    {
     "data": {
      "text/html": [
       "        <script type=\"text/javascript\">\n",
       "        window.PlotlyConfig = {MathJaxConfig: 'local'};\n",
       "        if (window.MathJax) {MathJax.Hub.Config({SVG: {font: \"STIX-Web\"}});}\n",
       "        if (typeof require !== 'undefined') {\n",
       "        require.undef(\"plotly\");\n",
       "        requirejs.config({\n",
       "            paths: {\n",
       "                'plotly': ['https://cdn.plot.ly/plotly-2.9.0.min']\n",
       "            }\n",
       "        });\n",
       "        require(['plotly'], function(Plotly) {\n",
       "            window._Plotly = Plotly;\n",
       "        });\n",
       "        }\n",
       "        </script>\n",
       "        "
      ]
     },
     "metadata": {},
     "output_type": "display_data"
    }
   ],
   "source": [
    "import os\n",
    "import pandas as pd\n",
    "import warnings\n",
    "from tqdm.notebook import tqdm, trange\n",
    "import matplotlib.pyplot as plt\n",
    "import plotly_express as px\n",
    "import plotly as py\n",
    "import plotly.io as pio\n",
    "from plotly.offline import download_plotlyjs, init_notebook_mode\n",
    "import plotly.graph_objs as go\n",
    "from plotly.subplots import make_subplots\n",
    "\n",
    "warnings.filterwarnings(\"ignore\")\n",
    "\n",
    "py.offline.init_notebook_mode(connected=True)\n",
    "tqdm.pandas()\n"
   ]
  },
  {
   "cell_type": "markdown",
   "metadata": {},
   "source": [
    "## 读取数据"
   ]
  },
  {
   "cell_type": "markdown",
   "metadata": {},
   "source": [
    "### 读取业务指标"
   ]
  },
  {
   "cell_type": "markdown",
   "metadata": {},
   "source": [
    "#### 正常数据"
   ]
  },
  {
   "cell_type": "code",
   "execution_count": 25,
   "metadata": {},
   "outputs": [],
   "source": [
    "service_metric_data1 = pd.read_csv(\n",
    "    '../data/training_data_normal/cloudbed-1/metric/service/metric_service.csv')\n",
    "# service_metric_data2 = pd.read_csv(\n",
    "#     '../data/training_data_normal/cloudbed-2/metric/service/metric_service.csv')\n",
    "# service_metric_data3 = pd.read_csv(\n",
    "#     '../data/training_data_normal/cloudbed-3/metric/service/metric_service.csv')\n"
   ]
  },
  {
   "cell_type": "markdown",
   "metadata": {},
   "source": [
    "#### 异常数据"
   ]
  },
  {
   "cell_type": "code",
   "execution_count": 28,
   "metadata": {},
   "outputs": [],
   "source": [
    "service_metric_data1 = pd.read_csv(\n",
    "    '../data/training_data_with_faults/tar/2022-03-20-cloudbed1/metric/service/metric_service.csv')\n",
    "service_metric_data2 = pd.read_csv(\n",
    "    '../data/training_data_with_faults/tar/2022-03-21-cloudbed1/metric/service/metric_service.csv')\n",
    "# service_metric_data3 = pd.read_csv(\n",
    "#     '../data/training_data_with_faults/tar/2022-03-20-cloudbed2/metric/service/metric_service.csv')\n",
    "# service_metric_data4 = pd.read_csv(\n",
    "#     '../data/training_data_with_faults/tar/2022-03-21-cloudbed2/metric/service/metric_service.csv')\n",
    "# service_metric_data5 = pd.read_csv(\n",
    "#     '../data/training_data_with_faults/tar/2022-03-20-cloudbed3/metric/service/metric_service.csv')\n",
    "# service_metric_data6 = pd.read_csv(\n",
    "#     '../data/training_data_with_faults/tar/2022-03-21-cloudbed3/metric/service/metric_service.csv')\n",
    "# service_metric_data7 = pd.read_csv(\n",
    "#     '../data/training_data_with_faults/tar/2022-03-24-cloudbed3/metric/service/metric_service.csv')\n"
   ]
  },
  {
   "cell_type": "code",
   "execution_count": 29,
   "metadata": {},
   "outputs": [
    {
     "data": {
      "text/html": [
       "<div>\n",
       "<style scoped>\n",
       "    .dataframe tbody tr th:only-of-type {\n",
       "        vertical-align: middle;\n",
       "    }\n",
       "\n",
       "    .dataframe tbody tr th {\n",
       "        vertical-align: top;\n",
       "    }\n",
       "\n",
       "    .dataframe thead th {\n",
       "        text-align: right;\n",
       "    }\n",
       "</style>\n",
       "<table border=\"1\" class=\"dataframe\">\n",
       "  <thead>\n",
       "    <tr style=\"text-align: right;\">\n",
       "      <th></th>\n",
       "      <th>service</th>\n",
       "      <th>timestamp</th>\n",
       "      <th>rr</th>\n",
       "      <th>sr</th>\n",
       "      <th>mrt</th>\n",
       "      <th>count</th>\n",
       "    </tr>\n",
       "  </thead>\n",
       "  <tbody>\n",
       "    <tr>\n",
       "      <th>0</th>\n",
       "      <td>adservice-grpc</td>\n",
       "      <td>1647716400</td>\n",
       "      <td>100.0</td>\n",
       "      <td>100.0</td>\n",
       "      <td>2.429508</td>\n",
       "      <td>61</td>\n",
       "    </tr>\n",
       "    <tr>\n",
       "      <th>1</th>\n",
       "      <td>adservice-grpc</td>\n",
       "      <td>1647716460</td>\n",
       "      <td>100.0</td>\n",
       "      <td>100.0</td>\n",
       "      <td>2.429508</td>\n",
       "      <td>61</td>\n",
       "    </tr>\n",
       "    <tr>\n",
       "      <th>2</th>\n",
       "      <td>adservice-grpc</td>\n",
       "      <td>1647716520</td>\n",
       "      <td>100.0</td>\n",
       "      <td>100.0</td>\n",
       "      <td>2.332967</td>\n",
       "      <td>91</td>\n",
       "    </tr>\n",
       "    <tr>\n",
       "      <th>3</th>\n",
       "      <td>adservice-grpc</td>\n",
       "      <td>1647716580</td>\n",
       "      <td>100.0</td>\n",
       "      <td>100.0</td>\n",
       "      <td>2.647015</td>\n",
       "      <td>67</td>\n",
       "    </tr>\n",
       "    <tr>\n",
       "      <th>4</th>\n",
       "      <td>adservice-grpc</td>\n",
       "      <td>1647716640</td>\n",
       "      <td>100.0</td>\n",
       "      <td>100.0</td>\n",
       "      <td>2.510000</td>\n",
       "      <td>85</td>\n",
       "    </tr>\n",
       "    <tr>\n",
       "      <th>...</th>\n",
       "      <td>...</td>\n",
       "      <td>...</td>\n",
       "      <td>...</td>\n",
       "      <td>...</td>\n",
       "      <td>...</td>\n",
       "      <td>...</td>\n",
       "    </tr>\n",
       "    <tr>\n",
       "      <th>15835</th>\n",
       "      <td>frontend-http</td>\n",
       "      <td>1647820500</td>\n",
       "      <td>100.0</td>\n",
       "      <td>100.0</td>\n",
       "      <td>53.037687</td>\n",
       "      <td>134</td>\n",
       "    </tr>\n",
       "    <tr>\n",
       "      <th>15836</th>\n",
       "      <td>frontend-http</td>\n",
       "      <td>1647820560</td>\n",
       "      <td>100.0</td>\n",
       "      <td>100.0</td>\n",
       "      <td>247.060484</td>\n",
       "      <td>124</td>\n",
       "    </tr>\n",
       "    <tr>\n",
       "      <th>15837</th>\n",
       "      <td>frontend-http</td>\n",
       "      <td>1647820620</td>\n",
       "      <td>100.0</td>\n",
       "      <td>100.0</td>\n",
       "      <td>549.454167</td>\n",
       "      <td>120</td>\n",
       "    </tr>\n",
       "    <tr>\n",
       "      <th>15838</th>\n",
       "      <td>frontend-http</td>\n",
       "      <td>1647820680</td>\n",
       "      <td>100.0</td>\n",
       "      <td>100.0</td>\n",
       "      <td>883.313559</td>\n",
       "      <td>118</td>\n",
       "    </tr>\n",
       "    <tr>\n",
       "      <th>15839</th>\n",
       "      <td>frontend-http</td>\n",
       "      <td>1647820740</td>\n",
       "      <td>100.0</td>\n",
       "      <td>100.0</td>\n",
       "      <td>1134.434783</td>\n",
       "      <td>92</td>\n",
       "    </tr>\n",
       "  </tbody>\n",
       "</table>\n",
       "<p>31680 rows × 6 columns</p>\n",
       "</div>"
      ],
      "text/plain": [
       "              service   timestamp     rr     sr          mrt  count\n",
       "0      adservice-grpc  1647716400  100.0  100.0     2.429508     61\n",
       "1      adservice-grpc  1647716460  100.0  100.0     2.429508     61\n",
       "2      adservice-grpc  1647716520  100.0  100.0     2.332967     91\n",
       "3      adservice-grpc  1647716580  100.0  100.0     2.647015     67\n",
       "4      adservice-grpc  1647716640  100.0  100.0     2.510000     85\n",
       "...               ...         ...    ...    ...          ...    ...\n",
       "15835   frontend-http  1647820500  100.0  100.0    53.037687    134\n",
       "15836   frontend-http  1647820560  100.0  100.0   247.060484    124\n",
       "15837   frontend-http  1647820620  100.0  100.0   549.454167    120\n",
       "15838   frontend-http  1647820680  100.0  100.0   883.313559    118\n",
       "15839   frontend-http  1647820740  100.0  100.0  1134.434783     92\n",
       "\n",
       "[31680 rows x 6 columns]"
      ]
     },
     "execution_count": 29,
     "metadata": {},
     "output_type": "execute_result"
    }
   ],
   "source": [
    "# service_metric_data=pd.concat([service_metric_data1,service_metric_data2,service_metric_data3])\n",
    "# service_metric_data = pd.concat(\n",
    "#     [service_metric_data1, service_metric_data2, service_metric_data3, service_metric_data4, service_metric_data5,service_metric_data6,service_metric_data7])\n",
    "service_metric_data = pd.concat(\n",
    "    [service_metric_data1, service_metric_data2])\n",
    "service_metric_data\n"
   ]
  },
  {
   "cell_type": "code",
   "execution_count": 27,
   "metadata": {},
   "outputs": [
    {
     "data": {
      "application/vnd.jupyter.widget-view+json": {
       "model_id": "a3c52e0216d6448b860564c0b6d80e1c",
       "version_major": 2,
       "version_minor": 0
      },
      "text/plain": [
       "  0%|          | 0/11 [00:00<?, ?it/s]"
      ]
     },
     "metadata": {},
     "output_type": "display_data"
    }
   ],
   "source": [
    "processed_service_metric_data = list(service_metric_data.groupby('service'))\n",
    "for (service,service_data) in tqdm(processed_service_metric_data):\n",
    "    service_data.sort_values(by='timestamp', inplace=True)\n",
    "    service_data.reset_index(drop=True, inplace=True)\n",
    "    service_data['datetime'] = pd.to_datetime(\n",
    "        service_data['timestamp'], unit='s')\n",
    "    \n",
    "    # processed_data_path = f'../data/training_data_normal/processed_service_metric_data/'\n",
    "    processed_data_path = f'../data/training_data_with_faults/tar/processed_service_metric_data/'\n",
    "    os.makedirs(processed_data_path, exist_ok=True)\n",
    "    service_data.to_csv(processed_data_path+service+'_metrics.csv', index=False)\n",
    "    \n",
    "    # visualization_path = f'../result/visualization/normal/'+service+'/'\n",
    "    visualization_path = f'../result/visualization/with_faults/'+service+'/'\n",
    "    os.makedirs(visualization_path, exist_ok=True)\n",
    "    fig4 = px.scatter(service_data, x='datetime', y='rr', title=service)\n",
    "    fig4.update_traces(\n",
    "        dict(marker={'color': 'rgb(255, 127, 14, 1)', 'opacity': 1, 'size': 3}, mode=\"markers\"))\n",
    "    pio.write_html(fig4, file=visualization_path+'rr.html')\n",
    "    \n",
    "    fig4 = px.scatter(service_data, x='datetime', y='sr', title=service)\n",
    "    fig4.update_traces(\n",
    "        dict(marker={'color': 'rgb(0, 204, 150, 1)', 'opacity': 1, 'size': 3}, mode=\"markers\"))\n",
    "    pio.write_html(fig4, file=visualization_path+'sr.html')\n",
    "    \n",
    "    fig4 = px.scatter(service_data, x='datetime', y='mrt', title=service)\n",
    "    fig4.update_traces(\n",
    "        dict(line={'color': 'rgb(31, 119, 180, 1)', 'width': 1}, mode=\"lines\"))\n",
    "    pio.write_html(fig4, file=visualization_path+'mrt.html')\n",
    "    \n",
    "    fig4 = px.scatter(service_data, x='datetime', y='count', title=service)\n",
    "    fig4.update_traces(\n",
    "        dict(line={'color': 'rgb(0, 0, 0, 1)', 'width': 1}, mode=\"lines\"))\n",
    "    pio.write_html(fig4, file=visualization_path+'count.html')\n"
   ]
  }
 ],
 "metadata": {
  "interpreter": {
   "hash": "5cd3cb958197236635b33eb3a41ee2e4d17ce24cee0fc13a23e30642bde7914e"
  },
  "kernelspec": {
   "display_name": "Python 3.8.12 ('aiops2022')",
   "language": "python",
   "name": "python3"
  },
  "language_info": {
   "codemirror_mode": {
    "name": "ipython",
    "version": 3
   },
   "file_extension": ".py",
   "mimetype": "text/x-python",
   "name": "python",
   "nbconvert_exporter": "python",
   "pygments_lexer": "ipython3",
   "version": "3.8.12"
  },
  "orig_nbformat": 4
 },
 "nbformat": 4,
 "nbformat_minor": 2
}
