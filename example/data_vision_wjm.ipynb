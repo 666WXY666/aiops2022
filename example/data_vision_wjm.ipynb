{
 "cells": [
  {
   "cell_type": "markdown",
   "metadata": {},
   "source": [
    "### Metric Visualization"
   ]
  },
  {
   "cell_type": "markdown",
   "metadata": {},
   "source": [
    "导入包"
   ]
  },
  {
   "cell_type": "code",
   "execution_count": null,
   "metadata": {},
   "outputs": [],
   "source": [
    "import sys\n",
    "sys.path.append('..')\n",
    "from utils.dataloader import make_data\n",
    "from utils.fault_visualization import *\n",
    "import pandas as pd\n",
    "import numpy as np\n",
    "import plotly as py\n",
    "import plotly.graph_objs as go\n",
    "from plotly import tools"
   ]
  },
  {
   "cell_type": "markdown",
   "metadata": {},
   "source": [
    "读取数据\n",
    "- make_data()将同类数据文件合并，依据 \"cmbd_id\" 和 \"timestamp\" 进行排序，取出单个指标时，依据不同层级的指标，有不同的取法：\n",
    "  - Service：按照字段\"service\"筛选即可\n",
    "  - Others：按照字段 \"cmbd_id\" 和 \"kpi_name\" 进行筛选"
   ]
  },
  {
   "cell_type": "code",
   "execution_count": null,
   "metadata": {},
   "outputs": [],
   "source": [
    "# service\n",
    "fpath_service = r'.\\faults\\tar\\2022-03-24-cloudbed3\\cloudbed-3\\metric\\service'\n",
    "metric_service = make_data(path=fpath_service, type=\"service\")\n",
    "print(\"Servcie Metrics Size: \", metric_service.shape)\n",
    "\n",
    "# node\n",
    "fpath_node = r'.\\faults\\tar\\2022-03-24-cloudbed3\\cloudbed-3\\metric\\node'\n",
    "metric_node = make_data(path=fpath_node, type=\"node\")\n",
    "print(\"Node Metrics Size: \", metric_node.shape)\n",
    "\n",
    "# container\n",
    "fpath_container = r'.\\faults\\tar\\2022-03-24-cloudbed3\\cloudbed-3\\metric\\container'\n",
    "metric_container = make_data(path=fpath_container, type=\"container\")\n",
    "print(\"Container Metrics Size: \", metric_container.shape)\n",
    "\n",
    "# istio\n",
    "fpath_istio = r'.\\faults\\tar\\2022-03-24-cloudbed3\\cloudbed-3\\metric\\istio'\n",
    "metric_istio = make_data(path=fpath_istio, type=\"istio\")\n",
    "print(\"Istio Metrics Size: \", metric_istio.shape)\n",
    "\n",
    "# istio\n",
    "fpath_jvm = r'.\\faults\\tar\\2022-03-24-cloudbed3\\cloudbed-3\\metric\\jvm'\n",
    "metric_jvm = make_data(path=fpath_jvm, type=\"jvm\")\n",
    "print(\"JVM Metrics Size: \", metric_jvm.shape)\n",
    "\n",
    "# label\n",
    "fpath_label = r'.\\faults\\groundtruth\\groundtruth-k8s-3-2022-03-24.csv'\n",
    "label = pd.read_csv(fpath_label)\n",
    "label.sort_values(by=['failure_type', 'timestamp'],inplace=True)"
   ]
  },
  {
   "cell_type": "code",
   "execution_count": null,
   "metadata": {},
   "outputs": [],
   "source": [
    "metric_service"
   ]
  },
  {
   "cell_type": "code",
   "execution_count": null,
   "metadata": {},
   "outputs": [],
   "source": [
    "metric_container"
   ]
  },
  {
   "cell_type": "code",
   "execution_count": null,
   "metadata": {},
   "outputs": [],
   "source": [
    "label"
   ]
  },
  {
   "cell_type": "markdown",
   "metadata": {},
   "source": [
    "画图并保存\n",
    "- Pod级别：画出该Pod的容器相关指标及其所在Node的相关指标\n",
    "- Service级别：画出该Service包含所有容器的容器相关指标\n",
    "- Node级别：画出该Node的相关指标"
   ]
  },
  {
   "cell_type": "code",
   "execution_count": null,
   "metadata": {},
   "outputs": [],
   "source": [
    "# ts_list = label.timestamp.values.tolist()\n",
    "# print('Label Count: ', len(ts_list))\n",
    "# cnt = 0\n",
    "# for ts in ts_list:\n",
    "#     fault_dict = format_fault(label, ts)\n",
    "#     plot_rela(fault_dict, 3600, metric_container, metric_service, metric_node)\n",
    "#     cnt = cnt+1\n",
    "# print('Plot Count: ', cnt)"
   ]
  },
  {
   "cell_type": "code",
   "execution_count": null,
   "metadata": {},
   "outputs": [],
   "source": [
    "# 针对故障记录: 1648083024\tservice\trecommendationservice\tk8s容器网络延迟\t2022-03-24 08:50:24\n",
    "fault_dict = format_fault(label, 1648083024)\n",
    "plot_rela(fault_dict, 3600, metric_container, metric_service, metric_node)"
   ]
  }
 ],
 "metadata": {
  "interpreter": {
   "hash": "caeba0901c998118cebfbb2e1690eea7fc34635760ac44fbbdfc8eec0ffa1312"
  },
  "kernelspec": {
   "display_name": "Python 3.8.13 ('aiops2022')",
   "language": "python",
   "name": "python3"
  },
  "language_info": {
   "codemirror_mode": {
    "name": "ipython",
    "version": 3
   },
   "file_extension": ".py",
   "mimetype": "text/x-python",
   "name": "python",
   "nbconvert_exporter": "python",
   "pygments_lexer": "ipython3",
   "version": "3.8.13"
  },
  "orig_nbformat": 4
 },
 "nbformat": 4,
 "nbformat_minor": 2
}
